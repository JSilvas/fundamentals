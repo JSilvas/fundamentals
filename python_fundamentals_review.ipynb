{
  "nbformat": 4,
  "nbformat_minor": 0,
  "metadata": {
    "colab": {
      "name": "python_fundamentals_review.ipynb",
      "version": "0.3.2",
      "provenance": [],
      "collapsed_sections": [
        "0ngr8QJ7lQmC",
        "kPzZthSokg0t",
        "kgu2202XtDn-",
        "q1YgREUs3Yiu",
        "quuBIcOd7J9Y",
        "BOai8M-nL7Fy",
        "3SUzfh28PE5u",
        "fIK2HFu6juBM",
        "IsZcokBelRg-",
        "TBgluC6Ol-rK",
        "MFwv_JDZnQvl"
      ]
    },
    "kernelspec": {
      "name": "python3",
      "display_name": "Python 3"
    }
  },
  "cells": [
    {
      "cell_type": "markdown",
      "metadata": {
        "id": "OJsUaJ_rdpVW",
        "colab_type": "text"
      },
      "source": [
        "# Python Fundamentals Review"
      ]
    },
    {
      "cell_type": "markdown",
      "metadata": {
        "id": "x0CRJevMtdFS",
        "colab_type": "text"
      },
      "source": [
        "This notebook is based off of a cursory walkthrough of Python basics found here: https://www.stavros.io/tutorials/python/\n",
        "\n",
        "I've added some description and explanation, rephrased comentary, and adjusted naming conventions for my own learning process and for later reference."
      ]
    },
    {
      "cell_type": "markdown",
      "metadata": {
        "id": "0ngr8QJ7lQmC",
        "colab_type": "text"
      },
      "source": [
        "## Getting Help"
      ]
    },
    {
      "cell_type": "markdown",
      "metadata": {
        "id": "6xt9m3ZwjRKg",
        "colab_type": "text"
      },
      "source": [
        "What Help in Python? The language has built in methods for accessing documentation and detailed properties of any object."
      ]
    },
    {
      "cell_type": "code",
      "metadata": {
        "id": "5wgwq4ZBdLRE",
        "colab_type": "code",
        "outputId": "c6df032b-9242-45b5-9ca0-3195f5937672",
        "colab": {
          "base_uri": "https://localhost:8080/",
          "height": 1000
        }
      },
      "source": [
        "# help(<object>) gives an explanation of how the object works\n",
        "help(5)"
      ],
      "execution_count": 0,
      "outputs": [
        {
          "output_type": "stream",
          "text": [
            "Help on int object:\n",
            "\n",
            "class int(object)\n",
            " |  int(x=0) -> integer\n",
            " |  int(x, base=10) -> integer\n",
            " |  \n",
            " |  Convert a number or string to an integer, or return 0 if no arguments\n",
            " |  are given.  If x is a number, return x.__int__().  For floating point\n",
            " |  numbers, this truncates towards zero.\n",
            " |  \n",
            " |  If x is not a number or if base is given, then x must be a string,\n",
            " |  bytes, or bytearray instance representing an integer literal in the\n",
            " |  given base.  The literal can be preceded by '+' or '-' and be surrounded\n",
            " |  by whitespace.  The base defaults to 10.  Valid bases are 0 and 2-36.\n",
            " |  Base 0 means to interpret the base from the string as an integer literal.\n",
            " |  >>> int('0b100', base=0)\n",
            " |  4\n",
            " |  \n",
            " |  Methods defined here:\n",
            " |  \n",
            " |  __abs__(self, /)\n",
            " |      abs(self)\n",
            " |  \n",
            " |  __add__(self, value, /)\n",
            " |      Return self+value.\n",
            " |  \n",
            " |  __and__(self, value, /)\n",
            " |      Return self&value.\n",
            " |  \n",
            " |  __bool__(self, /)\n",
            " |      self != 0\n",
            " |  \n",
            " |  __ceil__(...)\n",
            " |      Ceiling of an Integral returns itself.\n",
            " |  \n",
            " |  __divmod__(self, value, /)\n",
            " |      Return divmod(self, value).\n",
            " |  \n",
            " |  __eq__(self, value, /)\n",
            " |      Return self==value.\n",
            " |  \n",
            " |  __float__(self, /)\n",
            " |      float(self)\n",
            " |  \n",
            " |  __floor__(...)\n",
            " |      Flooring an Integral returns itself.\n",
            " |  \n",
            " |  __floordiv__(self, value, /)\n",
            " |      Return self//value.\n",
            " |  \n",
            " |  __format__(...)\n",
            " |      default object formatter\n",
            " |  \n",
            " |  __ge__(self, value, /)\n",
            " |      Return self>=value.\n",
            " |  \n",
            " |  __getattribute__(self, name, /)\n",
            " |      Return getattr(self, name).\n",
            " |  \n",
            " |  __getnewargs__(...)\n",
            " |  \n",
            " |  __gt__(self, value, /)\n",
            " |      Return self>value.\n",
            " |  \n",
            " |  __hash__(self, /)\n",
            " |      Return hash(self).\n",
            " |  \n",
            " |  __index__(self, /)\n",
            " |      Return self converted to an integer, if self is suitable for use as an index into a list.\n",
            " |  \n",
            " |  __int__(self, /)\n",
            " |      int(self)\n",
            " |  \n",
            " |  __invert__(self, /)\n",
            " |      ~self\n",
            " |  \n",
            " |  __le__(self, value, /)\n",
            " |      Return self<=value.\n",
            " |  \n",
            " |  __lshift__(self, value, /)\n",
            " |      Return self<<value.\n",
            " |  \n",
            " |  __lt__(self, value, /)\n",
            " |      Return self<value.\n",
            " |  \n",
            " |  __mod__(self, value, /)\n",
            " |      Return self%value.\n",
            " |  \n",
            " |  __mul__(self, value, /)\n",
            " |      Return self*value.\n",
            " |  \n",
            " |  __ne__(self, value, /)\n",
            " |      Return self!=value.\n",
            " |  \n",
            " |  __neg__(self, /)\n",
            " |      -self\n",
            " |  \n",
            " |  __new__(*args, **kwargs) from builtins.type\n",
            " |      Create and return a new object.  See help(type) for accurate signature.\n",
            " |  \n",
            " |  __or__(self, value, /)\n",
            " |      Return self|value.\n",
            " |  \n",
            " |  __pos__(self, /)\n",
            " |      +self\n",
            " |  \n",
            " |  __pow__(self, value, mod=None, /)\n",
            " |      Return pow(self, value, mod).\n",
            " |  \n",
            " |  __radd__(self, value, /)\n",
            " |      Return value+self.\n",
            " |  \n",
            " |  __rand__(self, value, /)\n",
            " |      Return value&self.\n",
            " |  \n",
            " |  __rdivmod__(self, value, /)\n",
            " |      Return divmod(value, self).\n",
            " |  \n",
            " |  __repr__(self, /)\n",
            " |      Return repr(self).\n",
            " |  \n",
            " |  __rfloordiv__(self, value, /)\n",
            " |      Return value//self.\n",
            " |  \n",
            " |  __rlshift__(self, value, /)\n",
            " |      Return value<<self.\n",
            " |  \n",
            " |  __rmod__(self, value, /)\n",
            " |      Return value%self.\n",
            " |  \n",
            " |  __rmul__(self, value, /)\n",
            " |      Return value*self.\n",
            " |  \n",
            " |  __ror__(self, value, /)\n",
            " |      Return value|self.\n",
            " |  \n",
            " |  __round__(...)\n",
            " |      Rounding an Integral returns itself.\n",
            " |      Rounding with an ndigits argument also returns an integer.\n",
            " |  \n",
            " |  __rpow__(self, value, mod=None, /)\n",
            " |      Return pow(value, self, mod).\n",
            " |  \n",
            " |  __rrshift__(self, value, /)\n",
            " |      Return value>>self.\n",
            " |  \n",
            " |  __rshift__(self, value, /)\n",
            " |      Return self>>value.\n",
            " |  \n",
            " |  __rsub__(self, value, /)\n",
            " |      Return value-self.\n",
            " |  \n",
            " |  __rtruediv__(self, value, /)\n",
            " |      Return value/self.\n",
            " |  \n",
            " |  __rxor__(self, value, /)\n",
            " |      Return value^self.\n",
            " |  \n",
            " |  __sizeof__(...)\n",
            " |      Returns size in memory, in bytes\n",
            " |  \n",
            " |  __str__(self, /)\n",
            " |      Return str(self).\n",
            " |  \n",
            " |  __sub__(self, value, /)\n",
            " |      Return self-value.\n",
            " |  \n",
            " |  __truediv__(self, value, /)\n",
            " |      Return self/value.\n",
            " |  \n",
            " |  __trunc__(...)\n",
            " |      Truncating an Integral returns itself.\n",
            " |  \n",
            " |  __xor__(self, value, /)\n",
            " |      Return self^value.\n",
            " |  \n",
            " |  bit_length(...)\n",
            " |      int.bit_length() -> int\n",
            " |      \n",
            " |      Number of bits necessary to represent self in binary.\n",
            " |      >>> bin(37)\n",
            " |      '0b100101'\n",
            " |      >>> (37).bit_length()\n",
            " |      6\n",
            " |  \n",
            " |  conjugate(...)\n",
            " |      Returns self, the complex conjugate of any int.\n",
            " |  \n",
            " |  from_bytes(...) from builtins.type\n",
            " |      int.from_bytes(bytes, byteorder, *, signed=False) -> int\n",
            " |      \n",
            " |      Return the integer represented by the given array of bytes.\n",
            " |      \n",
            " |      The bytes argument must be a bytes-like object (e.g. bytes or bytearray).\n",
            " |      \n",
            " |      The byteorder argument determines the byte order used to represent the\n",
            " |      integer.  If byteorder is 'big', the most significant byte is at the\n",
            " |      beginning of the byte array.  If byteorder is 'little', the most\n",
            " |      significant byte is at the end of the byte array.  To request the native\n",
            " |      byte order of the host system, use `sys.byteorder' as the byte order value.\n",
            " |      \n",
            " |      The signed keyword-only argument indicates whether two's complement is\n",
            " |      used to represent the integer.\n",
            " |  \n",
            " |  to_bytes(...)\n",
            " |      int.to_bytes(length, byteorder, *, signed=False) -> bytes\n",
            " |      \n",
            " |      Return an array of bytes representing an integer.\n",
            " |      \n",
            " |      The integer is represented using length bytes.  An OverflowError is\n",
            " |      raised if the integer is not representable with the given number of\n",
            " |      bytes.\n",
            " |      \n",
            " |      The byteorder argument determines the byte order used to represent the\n",
            " |      integer.  If byteorder is 'big', the most significant byte is at the\n",
            " |      beginning of the byte array.  If byteorder is 'little', the most\n",
            " |      significant byte is at the end of the byte array.  To request the native\n",
            " |      byte order of the host system, use `sys.byteorder' as the byte order value.\n",
            " |      \n",
            " |      The signed keyword-only argument determines whether two's complement is\n",
            " |      used to represent the integer.  If signed is False and a negative integer\n",
            " |      is given, an OverflowError is raised.\n",
            " |  \n",
            " |  ----------------------------------------------------------------------\n",
            " |  Data descriptors defined here:\n",
            " |  \n",
            " |  denominator\n",
            " |      the denominator of a rational number in lowest terms\n",
            " |  \n",
            " |  imag\n",
            " |      the imaginary part of a complex number\n",
            " |  \n",
            " |  numerator\n",
            " |      the numerator of a rational number in lowest terms\n",
            " |  \n",
            " |  real\n",
            " |      the real part of a complex number\n",
            "\n"
          ],
          "name": "stdout"
        }
      ]
    },
    {
      "cell_type": "code",
      "metadata": {
        "id": "HQ8n2XIejydX",
        "colab_type": "code",
        "colab": {}
      },
      "source": [
        "# dir() shows you the object's methods\n",
        "dir(5)"
      ],
      "execution_count": 0,
      "outputs": []
    },
    {
      "cell_type": "code",
      "metadata": {
        "id": "mU2nmKARkRR8",
        "colab_type": "code",
        "outputId": "19d2921f-4e99-4dd1-84f6-b92f24e0f638",
        "colab": {
          "base_uri": "https://localhost:8080/",
          "height": 36
        }
      },
      "source": [
        "# <object>.__doc__ shows you it's documentation string\n",
        "abs.__doc__"
      ],
      "execution_count": 0,
      "outputs": [
        {
          "output_type": "execute_result",
          "data": {
            "text/plain": [
              "'Return the absolute value of the argument.'"
            ]
          },
          "metadata": {
            "tags": []
          },
          "execution_count": 7
        }
      ]
    },
    {
      "cell_type": "markdown",
      "metadata": {
        "id": "kPzZthSokg0t",
        "colab_type": "text"
      },
      "source": [
        "## Syntax"
      ]
    },
    {
      "cell_type": "code",
      "metadata": {
        "id": "OrcdP66Umt5u",
        "colab_type": "code",
        "outputId": "70cf3e78-fb95-4cff-834d-aeb8b3d40915",
        "colab": {
          "base_uri": "https://localhost:8080/",
          "height": 36
        }
      },
      "source": [
        "# variable assignment & incrementing\n",
        "new_var = 7\n",
        "new_var += 3\n",
        "new_var"
      ],
      "execution_count": 0,
      "outputs": [
        {
          "output_type": "execute_result",
          "data": {
            "text/plain": [
              "10"
            ]
          },
          "metadata": {
            "tags": []
          },
          "execution_count": 3
        }
      ]
    },
    {
      "cell_type": "code",
      "metadata": {
        "id": "Gmgyl8nxm_cE",
        "colab_type": "code",
        "outputId": "149943b7-39c7-4276-8474-04d429c649ce",
        "colab": {
          "base_uri": "https://localhost:8080/",
          "height": 36
        }
      },
      "source": [
        "# and then decrementing the same object\n",
        "new_var -= 1\n",
        "new_var"
      ],
      "execution_count": 0,
      "outputs": [
        {
          "output_type": "execute_result",
          "data": {
            "text/plain": [
              "7"
            ]
          },
          "metadata": {
            "tags": []
          },
          "execution_count": 6
        }
      ]
    },
    {
      "cell_type": "code",
      "metadata": {
        "id": "UXflLWbwnMwH",
        "colab_type": "code",
        "outputId": "5690868e-434d-47cb-dd4b-48fc5ef9ce15",
        "colab": {
          "base_uri": "https://localhost:8080/",
          "height": 36
        }
      },
      "source": [
        "# Here's a Single Line Comment!!! I won't run!\n",
        "\"\"\"And Here is a multi-line comment!\n",
        "These are useful for creating docstrings for new functions\n",
        "They can also be a safe format to import unknown text into,\n",
        "in case you don't know exactly what kind of punctuation it \n",
        "will contain.\"\"\"\n",
        "\n",
        "# Next let's do some concatenation...\n",
        "new_string = 'Hello'\n",
        "new_string += ' world!'\n",
        "print(new_string)"
      ],
      "execution_count": 0,
      "outputs": [
        {
          "output_type": "stream",
          "text": [
            "Hello world!\n"
          ],
          "name": "stdout"
        }
      ]
    },
    {
      "cell_type": "code",
      "metadata": {
        "id": "V5ypJlrosP_f",
        "colab_type": "code",
        "colab": {}
      },
      "source": [
        "# This will will swap the values of the objects and\n",
        "# reassign them to the previous names\n",
        "new_var, new_string = new_string, new_var"
      ],
      "execution_count": 0,
      "outputs": []
    },
    {
      "cell_type": "markdown",
      "metadata": {
        "id": "kgu2202XtDn-",
        "colab_type": "text"
      },
      "source": [
        "## Data Types"
      ]
    },
    {
      "cell_type": "markdown",
      "metadata": {
        "id": "rIyAwgoxw_mL",
        "colab_type": "text"
      },
      "source": [
        "**Included Data Structures:**\n",
        "* lists --> One-dimensional arrays which can contain other objects\n",
        "* tuples --> imutable one-dimensional arrays\n",
        "* dictionaries --> Associatve arrays, or Hash tables\n",
        "\n",
        "Sets function like lists which will only contain unordered, imutable, unique elements."
      ]
    },
    {
      "cell_type": "code",
      "metadata": {
        "id": "6fi__i7itWkw",
        "colab_type": "code",
        "outputId": "9912dc90-e27c-4248-f68c-b435eadff3d8",
        "colab": {
          "base_uri": "https://localhost:8080/",
          "height": 36
        }
      },
      "source": [
        "# a list can hold other objects of different types\n",
        "sample = [1, ['another', 'list'], ('a', 'tuple')]\n",
        "mylist = ['List item 1', 2, 3.14]\n",
        "mylist[0] = 'List item 1 again' # this will change the item\n",
        "mylist[-1] = 3.21 # This refers to the last item\n",
        "\n",
        "mydict = {'Key 1': 'Value 1', 2: 3, 'pi': 3.14}\n",
        "mydict['pi'] = 3.15 # Here's how you change dict values\n",
        "\n",
        "mytuple =(1, 2, 3)\n",
        "myfunction = len # let's check the length of the dict 'mylist'\n",
        "\n",
        "print(myfunction(mylist))"
      ],
      "execution_count": 0,
      "outputs": [
        {
          "output_type": "stream",
          "text": [
            "3\n"
          ],
          "name": "stdout"
        }
      ]
    },
    {
      "cell_type": "code",
      "metadata": {
        "id": "wGUZSRxu0vAk",
        "colab_type": "code",
        "outputId": "a4df5e07-2219-4e5e-e445-a5c08f4c4f5c",
        "colab": {
          "base_uri": "https://localhost:8080/",
          "height": 36
        }
      },
      "source": [
        "# Here's some examples of methods to access data in arrays\n",
        "\n",
        "mylist = ['list item 1', 2, 3.14]\n",
        "print(mylist[:])"
      ],
      "execution_count": 0,
      "outputs": [
        {
          "output_type": "stream",
          "text": [
            "['list item 1', 2, 3.14]\n"
          ],
          "name": "stdout"
        }
      ]
    },
    {
      "cell_type": "code",
      "metadata": {
        "id": "-M4kCKQl2GsV",
        "colab_type": "code",
        "outputId": "245adead-75f6-48a6-db8f-ceadf4e3dfca",
        "colab": {
          "base_uri": "https://localhost:8080/",
          "height": 36
        }
      },
      "source": [
        "print(mylist[0:2])"
      ],
      "execution_count": 0,
      "outputs": [
        {
          "output_type": "stream",
          "text": [
            "['list item 1', 2]\n"
          ],
          "name": "stdout"
        }
      ]
    },
    {
      "cell_type": "code",
      "metadata": {
        "id": "7QofXeBX2d8J",
        "colab_type": "code",
        "outputId": "d62357a3-3e6a-4ce2-e3c5-46025bdf6621",
        "colab": {
          "base_uri": "https://localhost:8080/",
          "height": 36
        }
      },
      "source": [
        "print(mylist[-3:-1])"
      ],
      "execution_count": 0,
      "outputs": [
        {
          "output_type": "stream",
          "text": [
            "['list item 1', 2]\n"
          ],
          "name": "stdout"
        }
      ]
    },
    {
      "cell_type": "code",
      "metadata": {
        "id": "S6lw_9LG2mEx",
        "colab_type": "code",
        "outputId": "b6823223-c3fb-49a8-d7a3-5654e1006b71",
        "colab": {
          "base_uri": "https://localhost:8080/",
          "height": 36
        }
      },
      "source": [
        "print(mylist[1:])"
      ],
      "execution_count": 0,
      "outputs": [
        {
          "output_type": "stream",
          "text": [
            "[2, 3.14]\n"
          ],
          "name": "stdout"
        }
      ]
    },
    {
      "cell_type": "code",
      "metadata": {
        "id": "s_RQd9Zu2qa6",
        "colab_type": "code",
        "outputId": "dd5f8cab-7769-455b-9130-d248cfb3d994",
        "colab": {
          "base_uri": "https://localhost:8080/",
          "height": 36
        }
      },
      "source": [
        "# Using a third parameter will \"step\" will make python step\n",
        "# in N increments rather than just 1\n",
        "print(mylist[::2])"
      ],
      "execution_count": 0,
      "outputs": [
        {
          "output_type": "stream",
          "text": [
            "['list item 1', 3.14]\n"
          ],
          "name": "stdout"
        }
      ]
    },
    {
      "cell_type": "markdown",
      "metadata": {
        "id": "q1YgREUs3Yiu",
        "colab_type": "text"
      },
      "source": [
        "## Strings"
      ]
    },
    {
      "cell_type": "code",
      "metadata": {
        "id": "rs1ejbmp3Wwz",
        "colab_type": "code",
        "outputId": "ab262600-699b-4731-87b4-5aceeacf47f3",
        "colab": {
          "base_uri": "https://localhost:8080/",
          "height": 55
        }
      },
      "source": [
        "# print(\"Name: %s\\\n",
        "\n",
        "strString = \"\"\"This is\n",
        "a multiline\n",
        "string.\"\"\"\n",
        "\n",
        "# WARNING: Watch out for the trailing s in \"%(key)s\".\n",
        "print(\"This %(verb)s a %(noun)s.\" %{\"noun\": \"test\", \"verb\": \"is\"})\n",
        "\n",
        "\n",
        "name = \"Stavros\"\n",
        "# \"Hello, {}!\".format(name)\n",
        "\n",
        "# F strings are the typical way to insert functions or data inside of strings\n",
        "print(f'Hello, {name}!')"
      ],
      "execution_count": 0,
      "outputs": [
        {
          "output_type": "stream",
          "text": [
            "This is a test.\n",
            "Hello, Stavros!\n"
          ],
          "name": "stdout"
        }
      ]
    },
    {
      "cell_type": "markdown",
      "metadata": {
        "id": "quuBIcOd7J9Y",
        "colab_type": "text"
      },
      "source": [
        "## Flow Control Statements"
      ]
    },
    {
      "cell_type": "code",
      "metadata": {
        "id": "PHrGZ4AZ7do4",
        "colab_type": "code",
        "outputId": "fbf01d7d-9743-4641-a009-93360affbd5d",
        "colab": {
          "base_uri": "https://localhost:8080/",
          "height": 36
        }
      },
      "source": [
        "print(range(10))"
      ],
      "execution_count": 0,
      "outputs": [
        {
          "output_type": "stream",
          "text": [
            "range(0, 10)\n"
          ],
          "name": "stdout"
        }
      ]
    },
    {
      "cell_type": "code",
      "metadata": {
        "id": "NHnBP2UtGUY7",
        "colab_type": "code",
        "outputId": "ec534240-dbb8-4758-c2f1-6a93babbf812",
        "colab": {
          "base_uri": "https://localhost:8080/",
          "height": 36
        }
      },
      "source": [
        "rangelist = list(range(10))\n",
        "print(rangelist)"
      ],
      "execution_count": 0,
      "outputs": [
        {
          "output_type": "stream",
          "text": [
            "[0, 1, 2, 3, 4, 5, 6, 7, 8, 9]\n"
          ],
          "name": "stdout"
        }
      ]
    },
    {
      "cell_type": "code",
      "metadata": {
        "id": "E8EgiowGGpcr",
        "colab_type": "code",
        "colab": {}
      },
      "source": [
        "for number in range(10):\n",
        "    # Check if number is one of\n",
        "    # the numbers in the tuple.\n",
        "    if number in (3, 4, 7, 9):\n",
        "        # \"break\" terminates a for with executing the \"else\" clause\n",
        "        break\n",
        "    else:\n",
        "        continue # starts the next iteration of the loop\n",
        "else:\n",
        "    # optional clause can be used in case the loop doesn't \"break\"\n",
        "    pass # do nothing"
      ],
      "execution_count": 0,
      "outputs": []
    },
    {
      "cell_type": "code",
      "metadata": {
        "id": "80SMjUwpKrWi",
        "colab_type": "code",
        "outputId": "a98eec41-ff59-4356-e4cc-c379c8fdddcf",
        "colab": {
          "base_uri": "https://localhost:8080/",
          "height": 36
        }
      },
      "source": [
        "if rangelist[1] == 2:\n",
        "    print('the second item (lists are 0-based) is 2')\n",
        "elif rangelist[1] == 3:\n",
        "    print('The second item (lists are 0-based) is 3')\n",
        "else:\n",
        "    print('No idea...')"
      ],
      "execution_count": 0,
      "outputs": [
        {
          "output_type": "stream",
          "text": [
            "No idea...\n"
          ],
          "name": "stdout"
        }
      ]
    },
    {
      "cell_type": "code",
      "metadata": {
        "id": "0THbklSiLsbZ",
        "colab_type": "code",
        "colab": {}
      },
      "source": [
        "# Here's an inifinite \"while\" loop\n",
        "\n",
        "# while rangelist[1] == 1:\n",
        "#     print('We are trapped in an infinite loop!')"
      ],
      "execution_count": 0,
      "outputs": []
    },
    {
      "cell_type": "markdown",
      "metadata": {
        "id": "BOai8M-nL7Fy",
        "colab_type": "text"
      },
      "source": [
        "## Functions"
      ]
    },
    {
      "cell_type": "code",
      "metadata": {
        "id": "EE3RNSA-L9kS",
        "colab_type": "code",
        "outputId": "b85d22b1-f532-4fb2-9490-98682020060d",
        "colab": {
          "base_uri": "https://localhost:8080/",
          "height": 36
        }
      },
      "source": [
        "# Same as def funcvar(x): return x + 1\n",
        "funcvar = lambda x: x + 1\n",
        "print(funcvar(1))"
      ],
      "execution_count": 0,
      "outputs": [
        {
          "output_type": "stream",
          "text": [
            "2\n"
          ],
          "name": "stdout"
        }
      ]
    },
    {
      "cell_type": "code",
      "metadata": {
        "id": "liDMu98INcbr",
        "colab_type": "code",
        "outputId": "ae476876-c243-4ebc-a1c7-0274daf17ff2",
        "colab": {
          "base_uri": "https://localhost:8080/",
          "height": 36
        }
      },
      "source": [
        "# an_int and a_string are optional, they have default values\n",
        "# if one is not passed (2 and \"A default string\", respectively).\n",
        "def passing_example(a_list, an_int=2, a_string=\"A default string\"):\n",
        "    a_list.append('A new item')\n",
        "    an_int = 4\n",
        "    return a_list, an_int, a_string\n",
        "\n",
        "my_list = [1, 2, 3]\n",
        "my_int = 10\n",
        "print(passing_example(my_list, my_int))"
      ],
      "execution_count": 0,
      "outputs": [
        {
          "output_type": "stream",
          "text": [
            "([1, 2, 3, 'A new item'], 4, 'A default string')\n"
          ],
          "name": "stdout"
        }
      ]
    },
    {
      "cell_type": "code",
      "metadata": {
        "id": "ta9qvulGO-cm",
        "colab_type": "code",
        "outputId": "f1b202d9-6408-4eb2-ce24-15c16a4dd919",
        "colab": {
          "base_uri": "https://localhost:8080/",
          "height": 36
        }
      },
      "source": [
        "my_list"
      ],
      "execution_count": 0,
      "outputs": [
        {
          "output_type": "execute_result",
          "data": {
            "text/plain": [
              "[1, 2, 3, 'A new item']"
            ]
          },
          "metadata": {
            "tags": []
          },
          "execution_count": 12
        }
      ]
    },
    {
      "cell_type": "code",
      "metadata": {
        "id": "dvyik70NPAol",
        "colab_type": "code",
        "outputId": "899c797c-7a45-4f6e-92d1-f1c4f74a629b",
        "colab": {
          "base_uri": "https://localhost:8080/",
          "height": 36
        }
      },
      "source": [
        "my_int"
      ],
      "execution_count": 0,
      "outputs": [
        {
          "output_type": "execute_result",
          "data": {
            "text/plain": [
              "10"
            ]
          },
          "metadata": {
            "tags": []
          },
          "execution_count": 13
        }
      ]
    },
    {
      "cell_type": "markdown",
      "metadata": {
        "id": "3SUzfh28PE5u",
        "colab_type": "text"
      },
      "source": [
        "## Classes"
      ]
    },
    {
      "cell_type": "code",
      "metadata": {
        "id": "Scy3Or1VPEhS",
        "colab_type": "code",
        "outputId": "95e27f1b-dba8-4433-bc9d-b8c2d41dca35",
        "colab": {
          "base_uri": "https://localhost:8080/",
          "height": 36
        }
      },
      "source": [
        "#This works similarly to a constructor in JavaScript\n",
        "class MyClass(object):\n",
        "    common = 10\n",
        "    def __init__(self):\n",
        "        self.my_variable = 3\n",
        "    def my_function(self, arg1, arg2):\n",
        "        return self.my_variable\n",
        "    \n",
        "# This is the class instantiation\n",
        "class_instance = MyClass()\n",
        "class_instance.my_function(1, 2)"
      ],
      "execution_count": 0,
      "outputs": [
        {
          "output_type": "execute_result",
          "data": {
            "text/plain": [
              "3"
            ]
          },
          "metadata": {
            "tags": []
          },
          "execution_count": 15
        }
      ]
    },
    {
      "cell_type": "code",
      "metadata": {
        "id": "3ye5_s3nS0ha",
        "colab_type": "code",
        "outputId": "727bad1c-b7a3-41b5-d6a5-ba3e5e296f23",
        "colab": {
          "base_uri": "https://localhost:8080/",
          "height": 36
        }
      },
      "source": [
        "# This variable is shared by all instances\n",
        "class_instance_2 = MyClass()\n",
        "class_instance.common"
      ],
      "execution_count": 0,
      "outputs": [
        {
          "output_type": "execute_result",
          "data": {
            "text/plain": [
              "10"
            ]
          },
          "metadata": {
            "tags": []
          },
          "execution_count": 18
        }
      ]
    },
    {
      "cell_type": "code",
      "metadata": {
        "id": "B-wmE9MkVTuw",
        "colab_type": "code",
        "outputId": "e5471b71-3229-4f82-e47f-4dd5979f858c",
        "colab": {
          "base_uri": "https://localhost:8080/",
          "height": 36
        }
      },
      "source": [
        "class_instance_2.common"
      ],
      "execution_count": 0,
      "outputs": [
        {
          "output_type": "execute_result",
          "data": {
            "text/plain": [
              "10"
            ]
          },
          "metadata": {
            "tags": []
          },
          "execution_count": 19
        }
      ]
    },
    {
      "cell_type": "code",
      "metadata": {
        "id": "RZpec2bKVY6z",
        "colab_type": "code",
        "outputId": "965ee654-4423-4806-be7c-416d85515038",
        "colab": {
          "base_uri": "https://localhost:8080/",
          "height": 36
        }
      },
      "source": [
        "# Note how we use the class name instead of the instance\n",
        "MyClass.common = 30\n",
        "#Then check the updated values of the instances\n",
        "class_instance.common"
      ],
      "execution_count": 0,
      "outputs": [
        {
          "output_type": "execute_result",
          "data": {
            "text/plain": [
              "30"
            ]
          },
          "metadata": {
            "tags": []
          },
          "execution_count": 20
        }
      ]
    },
    {
      "cell_type": "code",
      "metadata": {
        "id": "B19UvV7GVtMq",
        "colab_type": "code",
        "outputId": "ed2089e3-6e3c-48f3-d108-10ca639945ec",
        "colab": {
          "base_uri": "https://localhost:8080/",
          "height": 36
        }
      },
      "source": [
        "class_instance_2.common"
      ],
      "execution_count": 0,
      "outputs": [
        {
          "output_type": "execute_result",
          "data": {
            "text/plain": [
              "30"
            ]
          },
          "metadata": {
            "tags": []
          },
          "execution_count": 21
        }
      ]
    },
    {
      "cell_type": "code",
      "metadata": {
        "id": "CYj19vjAVwJv",
        "colab_type": "code",
        "outputId": "a30e6f61-4245-47a3-9dc8-3760c40aa6c3",
        "colab": {
          "base_uri": "https://localhost:8080/",
          "height": 36
        }
      },
      "source": [
        "# This will not update the variable on the class,\n",
        "# instead it will bind a new object to the old variable name\n",
        "class_instance.common = 10\n",
        "class_instance.common"
      ],
      "execution_count": 0,
      "outputs": [
        {
          "output_type": "execute_result",
          "data": {
            "text/plain": [
              "10"
            ]
          },
          "metadata": {
            "tags": []
          },
          "execution_count": 23
        }
      ]
    },
    {
      "cell_type": "code",
      "metadata": {
        "id": "6A7WYilCWM15",
        "colab_type": "code",
        "outputId": "b9884d84-ba03-4b53-f24f-ce97888bcf3d",
        "colab": {
          "base_uri": "https://localhost:8080/",
          "height": 36
        }
      },
      "source": [
        "class_instance_2.common"
      ],
      "execution_count": 0,
      "outputs": [
        {
          "output_type": "execute_result",
          "data": {
            "text/plain": [
              "30"
            ]
          },
          "metadata": {
            "tags": []
          },
          "execution_count": 25
        }
      ]
    },
    {
      "cell_type": "markdown",
      "metadata": {
        "id": "vc_Pf74TXZWl",
        "colab_type": "text"
      },
      "source": [
        "**I can change the \"Common\" variable in our class:**"
      ]
    },
    {
      "cell_type": "code",
      "metadata": {
        "id": "DX85ZK6QWZDO",
        "colab_type": "code",
        "colab": {}
      },
      "source": [
        "MyClass.common = 50"
      ],
      "execution_count": 0,
      "outputs": []
    },
    {
      "cell_type": "code",
      "metadata": {
        "id": "p9RQGTMYW6Hf",
        "colab_type": "code",
        "outputId": "4f404f75-ff34-44f5-e3cd-c3cfc16f1f96",
        "colab": {
          "base_uri": "https://localhost:8080/",
          "height": 36
        }
      },
      "source": [
        "# But this has not been changed because\n",
        "# it is now an \"instance\" variable\n",
        "class_instance.common"
      ],
      "execution_count": 0,
      "outputs": [
        {
          "output_type": "execute_result",
          "data": {
            "text/plain": [
              "10"
            ]
          },
          "metadata": {
            "tags": []
          },
          "execution_count": 27
        }
      ]
    },
    {
      "cell_type": "code",
      "metadata": {
        "id": "qaZJ4sHTXIGA",
        "colab_type": "code",
        "outputId": "c2a1c8ce-a050-44d5-ad93-6a31d9f966b7",
        "colab": {
          "base_uri": "https://localhost:8080/",
          "height": 36
        }
      },
      "source": [
        "# However this is still a \"class\" variable\n",
        "class_instance_2.common"
      ],
      "execution_count": 0,
      "outputs": [
        {
          "output_type": "execute_result",
          "data": {
            "text/plain": [
              "50"
            ]
          },
          "metadata": {
            "tags": []
          },
          "execution_count": 28
        }
      ]
    },
    {
      "cell_type": "markdown",
      "metadata": {
        "id": "yfbQjGJ_X-XQ",
        "colab_type": "text"
      },
      "source": [
        "**Multiple Inheritance**:"
      ]
    },
    {
      "cell_type": "code",
      "metadata": {
        "id": "4mqS9QylXWoD",
        "colab_type": "code",
        "outputId": "a1fec676-fb9e-4745-9a86-e6f2a9c62f3c",
        "colab": {
          "base_uri": "https://localhost:8080/",
          "height": 36
        }
      },
      "source": [
        "# \n",
        "class OtherClass(MyClass):\n",
        "    # \"self\" in a python class refers to the class instance\n",
        "    # This is similar to contextual \"this\" in JavaScript\n",
        "    def __init__(self, arg1):\n",
        "        self.my_variable = 3\n",
        "        print(arg1)\n",
        "\n",
        "class_instance = OtherClass('hello')"
      ],
      "execution_count": 0,
      "outputs": [
        {
          "output_type": "stream",
          "text": [
            "hello\n"
          ],
          "name": "stdout"
        }
      ]
    },
    {
      "cell_type": "code",
      "metadata": {
        "id": "gef-XA7BjNm2",
        "colab_type": "code",
        "outputId": "a59b84c7-fd37-463a-a08d-7347f4ee82fe",
        "colab": {
          "base_uri": "https://localhost:8080/",
          "height": 36
        }
      },
      "source": [
        "class_instance.my_function(1, 2)"
      ],
      "execution_count": 0,
      "outputs": [
        {
          "output_type": "execute_result",
          "data": {
            "text/plain": [
              "3"
            ]
          },
          "metadata": {
            "tags": []
          },
          "execution_count": 34
        }
      ]
    },
    {
      "cell_type": "code",
      "metadata": {
        "id": "BVw3vD0Yji22",
        "colab_type": "code",
        "outputId": "99adaab5-97f1-4d42-a3b7-924237ee0ff4",
        "colab": {
          "base_uri": "https://localhost:8080/",
          "height": 36
        }
      },
      "source": [
        "class_instance.test = 10\n",
        "class_instance.test"
      ],
      "execution_count": 0,
      "outputs": [
        {
          "output_type": "execute_result",
          "data": {
            "text/plain": [
              "10"
            ]
          },
          "metadata": {
            "tags": []
          },
          "execution_count": 36
        }
      ]
    },
    {
      "cell_type": "markdown",
      "metadata": {
        "id": "fIK2HFu6juBM",
        "colab_type": "text"
      },
      "source": [
        "## Exceptions"
      ]
    },
    {
      "cell_type": "markdown",
      "metadata": {
        "id": "qEjn1n1YjyXg",
        "colab_type": "text"
      },
      "source": [
        "Exceptions are handled with `try-except[exceptionname]` blocks:"
      ]
    },
    {
      "cell_type": "code",
      "metadata": {
        "id": "9Mf3q0tSj_BY",
        "colab_type": "code",
        "outputId": "0f03e359-ad5f-42ba-d7a1-a0dd14f1ead2",
        "colab": {
          "base_uri": "https://localhost:8080/",
          "height": 55
        }
      },
      "source": [
        "def some_function():\n",
        "    try:\n",
        "        # Division by zero raises an exception\n",
        "        10 / 0\n",
        "    except ZeroDivisionError:\n",
        "        print('Oops, invalid.')\n",
        "    else:\n",
        "        # Exception didn't occur, we're good.\n",
        "        pass\n",
        "    finally:\n",
        "        # \"finally\" is executed after the code block runs\n",
        "        # and all exceptions are handled, including \n",
        "        # any new exceptions that are raised in the process.\n",
        "        print(\"We're done with that.\")\n",
        "\n",
        "some_function()"
      ],
      "execution_count": 0,
      "outputs": [
        {
          "output_type": "stream",
          "text": [
            "Oops, invalid.\n",
            "We're done with that.\n"
          ],
          "name": "stdout"
        }
      ]
    },
    {
      "cell_type": "markdown",
      "metadata": {
        "id": "IsZcokBelRg-",
        "colab_type": "text"
      },
      "source": [
        "## Importing"
      ]
    },
    {
      "cell_type": "markdown",
      "metadata": {
        "id": "unsi4LOSlVxH",
        "colab_type": "text"
      },
      "source": [
        "Import external libraries and functions from libraries using the `import [libname]` and `from [libname] import [func_name]` keywords."
      ]
    },
    {
      "cell_type": "code",
      "metadata": {
        "id": "IJATXGkNltFM",
        "colab_type": "code",
        "outputId": "bd1b134e-a02f-4e47-e342-a75cdfdd1fbf",
        "colab": {
          "base_uri": "https://localhost:8080/",
          "height": 36
        }
      },
      "source": [
        "import random\n",
        "from time import clock\n",
        "\n",
        "random_int = random.randint(1, 100)\n",
        "print(random_int)"
      ],
      "execution_count": 0,
      "outputs": [
        {
          "output_type": "stream",
          "text": [
            "77\n"
          ],
          "name": "stdout"
        }
      ]
    },
    {
      "cell_type": "markdown",
      "metadata": {
        "id": "TBgluC6Ol-rK",
        "colab_type": "text"
      },
      "source": [
        "## File I/O"
      ]
    },
    {
      "cell_type": "markdown",
      "metadata": {
        "id": "xaOxo8CXmDOz",
        "colab_type": "text"
      },
      "source": [
        "Python includes a variety of built in libraries. Here's an example of serializing(converting data structures to strings with the `pickle` library) with file I/O:"
      ]
    },
    {
      "cell_type": "code",
      "metadata": {
        "id": "9sYnjrM1f4BD",
        "colab_type": "code",
        "outputId": "e597b001-e00f-4ee4-d41c-f9c8ca5c16ad",
        "colab": {
          "base_uri": "https://localhost:8080/",
          "height": 36
        }
      },
      "source": [
        "import pickle\n",
        "my_list = ['this', 'is', 4, 13327]\n",
        "# open the file C:\\\\binary.dat for writing. \n",
        "# The letter r before thje filename string \n",
        "# is used to prevent backslash escaping.\n",
        "my_file = open(r'C:\\\\binary.dat', 'wb')\n",
        "pickle.dump(my_list, my_file)\n",
        "my_file.close()\n",
        "\n",
        "my_file = open(r\"C:\\\\text.txt\", \"w\")\n",
        "my_file.write(\"This is a sample string\")\n",
        "my_file.close()\n",
        "\n",
        "my_file = open(r\"C:\\\\text.txt\")\n",
        "print(my_file.read())\n",
        "\n",
        "my_file.close()"
      ],
      "execution_count": 0,
      "outputs": [
        {
          "output_type": "stream",
          "text": [
            "This is a sample string\n"
          ],
          "name": "stdout"
        }
      ]
    },
    {
      "cell_type": "code",
      "metadata": {
        "id": "cmvkBzE7ltWS",
        "colab_type": "code",
        "outputId": "f5023c3c-bc50-4e5e-920f-895a0f6ea4cf",
        "colab": {
          "base_uri": "https://localhost:8080/",
          "height": 36
        }
      },
      "source": [
        "# Open the file for reading.\n",
        "my_file = open(r\"C:\\\\binary.dat\", \"rb\")\n",
        "loaded_list = pickle.load(my_file)\n",
        "my_file.close()\n",
        "print(loaded_list)"
      ],
      "execution_count": 0,
      "outputs": [
        {
          "output_type": "stream",
          "text": [
            "['this', 'is', 4, 13327]\n"
          ],
          "name": "stdout"
        }
      ]
    },
    {
      "cell_type": "markdown",
      "metadata": {
        "id": "MFwv_JDZnQvl",
        "colab_type": "text"
      },
      "source": [
        "## Miscellaneous"
      ]
    },
    {
      "cell_type": "markdown",
      "metadata": {
        "id": "HODGX59yncMl",
        "colab_type": "text"
      },
      "source": [
        "* Conditions can be chained together: `1 < a < 3` checks that a is both less than 3 and greater than 1\n",
        "* use `del` to delete variables or items in arrays\n",
        "* **List comprehensions** allow you to create and manipulate lists: "
      ]
    },
    {
      "cell_type": "code",
      "metadata": {
        "id": "HTqa5BjUpC5d",
        "colab_type": "code",
        "outputId": "110426d9-8241-4900-bc2a-a928faf44b57",
        "colab": {
          "base_uri": "https://localhost:8080/",
          "height": 36
        }
      },
      "source": [
        "list1 = [1, 2, 3]\n",
        "list2 = [3, 4, 5]\n",
        "print([x * y for x in list1 for y in list2])"
      ],
      "execution_count": 0,
      "outputs": [
        {
          "output_type": "stream",
          "text": [
            "[3, 4, 5, 6, 8, 10, 9, 12, 15]\n"
          ],
          "name": "stdout"
        }
      ]
    },
    {
      "cell_type": "code",
      "metadata": {
        "id": "Vul0woZupvIJ",
        "colab_type": "code",
        "outputId": "a956d870-c434-4698-89ce-fbdf1969d815",
        "colab": {
          "base_uri": "https://localhost:8080/",
          "height": 36
        }
      },
      "source": [
        "print([x for x in list1 if 4 > x > 1])"
      ],
      "execution_count": 0,
      "outputs": [
        {
          "output_type": "stream",
          "text": [
            "[2, 3]\n"
          ],
          "name": "stdout"
        }
      ]
    },
    {
      "cell_type": "code",
      "metadata": {
        "id": "jsOtRE57qCVc",
        "colab_type": "code",
        "outputId": "803b9613-9322-4bcc-f8aa-3dd63b46f884",
        "colab": {
          "base_uri": "https://localhost:8080/",
          "height": 36
        }
      },
      "source": [
        "# Check if a condition is true for any items.\n",
        "# \"any\" returns true if any item in the list is true.\n",
        "any([i % 3 for i in [3, 3, 4, 4, 3]])\n",
        "\n",
        "# Because 4 % 3 = 1, and 1 is true, so any() returns True"
      ],
      "execution_count": 0,
      "outputs": [
        {
          "output_type": "execute_result",
          "data": {
            "text/plain": [
              "True"
            ]
          },
          "metadata": {
            "tags": []
          },
          "execution_count": 12
        }
      ]
    },
    {
      "cell_type": "code",
      "metadata": {
        "id": "25NAeoOWqr4e",
        "colab_type": "code",
        "outputId": "65626110-8537-432f-a9fa-9b1330e28cfb",
        "colab": {
          "base_uri": "https://localhost:8080/",
          "height": 36
        }
      },
      "source": [
        "# Check for how many items a condition is true\n",
        "sum(1 for i in [3, 3, 4, 4, 3] if i == 4)"
      ],
      "execution_count": 0,
      "outputs": [
        {
          "output_type": "execute_result",
          "data": {
            "text/plain": [
              "2"
            ]
          },
          "metadata": {
            "tags": []
          },
          "execution_count": 13
        }
      ]
    },
    {
      "cell_type": "code",
      "metadata": {
        "id": "1vUozd10rEh-",
        "colab_type": "code",
        "outputId": "e6c6bd73-602b-49d9-b109-64e762b41e96",
        "colab": {
          "base_uri": "https://localhost:8080/",
          "height": 36
        }
      },
      "source": [
        "del list1[0]\n",
        "print(list1)"
      ],
      "execution_count": 0,
      "outputs": [
        {
          "output_type": "stream",
          "text": [
            "[2, 3]\n"
          ],
          "name": "stdout"
        }
      ]
    },
    {
      "cell_type": "code",
      "metadata": {
        "id": "WaOdJwjErM_p",
        "colab_type": "code",
        "colab": {}
      },
      "source": [
        "del list1"
      ],
      "execution_count": 0,
      "outputs": []
    },
    {
      "cell_type": "markdown",
      "metadata": {
        "id": "rU-hrGjRrSX9",
        "colab_type": "text"
      },
      "source": [
        "**Global Variables** must be declared at the beginning of a function with the `global` keyword."
      ]
    },
    {
      "cell_type": "markdown",
      "metadata": {
        "id": "j3vd3LhcrxbM",
        "colab_type": "text"
      },
      "source": [
        "In absense of this, Python will bind the object to a new local variable."
      ]
    },
    {
      "cell_type": "code",
      "metadata": {
        "id": "-Wrb1EP-rwAR",
        "colab_type": "code",
        "outputId": "5e9c442b-41a1-400f-f20a-04263c13cb34",
        "colab": {
          "base_uri": "https://localhost:8080/",
          "height": 36
        }
      },
      "source": [
        "number = 5\n",
        "\n",
        "def my_fund():\n",
        "    # This will print 5.\n",
        "    print(number)\n",
        "\n",
        "def another_func():\n",
        "    # This will raise an exception...\n",
        "    print(number)\n",
        "    number = 3\n",
        "    # because the variable has not been bound before printing\n",
        "    # Python knows the variable will be bound later and\n",
        "    # creates a new local object instead of using the global\n",
        "\n",
        "def yet_another_func():\n",
        "    global number\n",
        "    # This will correctly access the global:\n",
        "    number = 3\n",
        "\n",
        "yet_another_func()\n",
        "print(number)"
      ],
      "execution_count": 0,
      "outputs": [
        {
          "output_type": "stream",
          "text": [
            "3\n"
          ],
          "name": "stdout"
        }
      ]
    }
  ]
}